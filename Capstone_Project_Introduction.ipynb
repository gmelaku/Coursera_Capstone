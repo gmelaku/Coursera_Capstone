{
 "cells": [
  {
   "cell_type": "markdown",
   "metadata": {},
   "source": [
    "## Capstone Project"
   ]
  },
  {
   "cell_type": "markdown",
   "metadata": {},
   "source": [
    "### Introduction"
   ]
  },
  {
   "cell_type": "markdown",
   "metadata": {},
   "source": [
    "Global warming and climate changes are existential threats to human race. The rate at which warming takes place is much faster than the Permian-Triassic extinction warming event. Extreme warming events always involve the same invisible culprit, one we’re familiar with today: A massive dose of carbon dioxide, or CO2.  With this rapid growth in technology; rapid industrialization and the race for being economic superpower, CO2 emission had increased exponentially. \n",
    "        \n"
   ]
  },
  {
   "cell_type": "markdown",
   "metadata": {},
   "source": [
    "The number of motorized vehicles (cars and trucks) in 2015 were around __1.5 billion.__ The number is expected to climb to more than __2 billion__ by 2025. With the number of vehicles increasing at this rate, it is recommended to drive environmentally safe vehicles. In this project, the 2020 office of Energy efficiency & renewable energy guide data ( https://fueleconomy.gov/feg/download.shtml)  will be used to create a model predicting if a given vehicle falls within the category of SmartWay vehicle."
   ]
  },
  {
   "cell_type": "markdown",
   "metadata": {},
   "source": [
    "### Business Problem/ Justification"
   ]
  },
  {
   "cell_type": "markdown",
   "metadata": {},
   "source": [
    "__Greenhouse Gas Score__ and __Air Pollution Score (smog score)__ are the key variables in determining if your drive is “green vehicle”. With this era of growing traffic and CO2 emission, it is advisable to use vehicles that qualify for SmartWay. This project will train a model to predict if a given vehicle is SmartWay vehicle based on various independent variables.\n",
    "\n",
    "\n",
    "Moving forward, the pollution score and Greenhouse gas score of vehicles should be one of the key criteria when people go for car hunting, along with price and other criteria."
   ]
  }
 ],
 "metadata": {
  "kernelspec": {
   "display_name": "Python 3",
   "language": "python",
   "name": "python3"
  },
  "language_info": {
   "codemirror_mode": {
    "name": "ipython",
    "version": 3
   },
   "file_extension": ".py",
   "mimetype": "text/x-python",
   "name": "python",
   "nbconvert_exporter": "python",
   "pygments_lexer": "ipython3",
   "version": "3.8.3"
  }
 },
 "nbformat": 4,
 "nbformat_minor": 4
}
